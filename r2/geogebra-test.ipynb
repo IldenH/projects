{
 "cells": [
  {
   "cell_type": "markdown",
   "id": "84688678-6d57-453f-9ccb-a74f1d648945",
   "metadata": {},
   "source": [
    "# Geogebra aktig programmering"
   ]
  },
  {
   "cell_type": "code",
   "execution_count": 10,
   "id": "6da8f18c-081b-4d96-be41-350ca182526e",
   "metadata": {},
   "outputs": [],
   "source": [
    "import sympy as sp"
   ]
  },
  {
   "cell_type": "code",
   "execution_count": 7,
   "id": "2e953fc4-edde-4827-b690-86e256176e0e",
   "metadata": {},
   "outputs": [],
   "source": [
    "A = sp.Point(0, 0)\n",
    "B = sp.Point(2, 3)\n",
    "AB = sp.Line(A, B)"
   ]
  },
  {
   "cell_type": "code",
   "execution_count": 8,
   "id": "29820cbe-efac-4342-b941-050c2e8229dd",
   "metadata": {},
   "outputs": [
    {
     "name": "stdout",
     "output_type": "stream",
     "text": [
      "-3*x + 2*y\n"
     ]
    }
   ],
   "source": [
    "print(AB.equation())"
   ]
  },
  {
   "cell_type": "code",
   "execution_count": 11,
   "id": "f700f0d7-6751-429b-971a-28636ba8ef34",
   "metadata": {},
   "outputs": [],
   "source": [
    "from IPython.display import display"
   ]
  },
  {
   "cell_type": "code",
   "execution_count": 12,
   "id": "2aebacbf-a03a-49a6-b543-ebdb5ce48b76",
   "metadata": {},
   "outputs": [
    {
     "data": {
      "text/latex": [
       "$\\displaystyle - 3 x + 2 y$"
      ],
      "text/plain": [
       "-3*x + 2*y"
      ]
     },
     "metadata": {},
     "output_type": "display_data"
    }
   ],
   "source": [
    "display(AB.equation())"
   ]
  }
 ],
 "metadata": {
  "kernelspec": {
   "display_name": "Python 3 (ipykernel)",
   "language": "python",
   "name": "python3"
  },
  "language_info": {
   "codemirror_mode": {
    "name": "ipython",
    "version": 3
   },
   "file_extension": ".py",
   "mimetype": "text/x-python",
   "name": "python",
   "nbconvert_exporter": "python",
   "pygments_lexer": "ipython3",
   "version": "3.12.10"
  }
 },
 "nbformat": 4,
 "nbformat_minor": 5
}
