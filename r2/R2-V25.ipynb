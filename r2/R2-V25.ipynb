{
 "cells": [
  {
   "cell_type": "markdown",
   "id": "cb134b89-9b04-4cd5-8fcb-785ace10f57f",
   "metadata": {},
   "source": [
    "### Eksamen R2 vår 2025 - del 2"
   ]
  },
  {
   "cell_type": "code",
   "execution_count": 1,
   "id": "a99bba79-a8d2-4abf-9af8-f7285b8e5447",
   "metadata": {},
   "outputs": [],
   "source": [
    "import sympy as sp\n",
    "from IPython.display import display"
   ]
  },
  {
   "cell_type": "markdown",
   "id": "a29a87fb-29c4-451e-9caa-628deaeb5b45",
   "metadata": {},
   "source": [
    "## Oppgave 1a)"
   ]
  },
  {
   "cell_type": "code",
   "execution_count": 2,
   "id": "5156ab7a-5a95-4f3b-9a10-3410167d2042",
   "metadata": {},
   "outputs": [],
   "source": [
    "def r(t):\n",
    "  return (4 * sp.cos((sp.pi/5) * t), 4 * sp.sin((sp.pi/5) * t) + 2, 5 + (1/3) * t) "
   ]
  },
  {
   "cell_type": "code",
   "execution_count": 3,
   "id": "dab87d7d-1a11-4c4d-ba88-30a27ebed5a5",
   "metadata": {},
   "outputs": [
    {
     "data": {
      "text/plain": [
       "(-4, 2, 6.666666666666666)"
      ]
     },
     "execution_count": 3,
     "metadata": {},
     "output_type": "execute_result"
    }
   ],
   "source": [
    "r(5)"
   ]
  },
  {
   "cell_type": "markdown",
   "id": "50da8dba-ce81-4094-bb30-d6f8200211d4",
   "metadata": {},
   "source": [
    "Bilen er omtrent 6.7 meter over bakken etter 5 sekund."
   ]
  },
  {
   "cell_type": "markdown",
   "id": "04eaf51d-2ca6-49d3-a7db-758faf27295f",
   "metadata": {},
   "source": [
    "## Oppgave 1b)"
   ]
  },
  {
   "cell_type": "code",
   "execution_count": 4,
   "id": "686921f4-d0fb-4b90-8746-79e2a21ba1c8",
   "metadata": {},
   "outputs": [],
   "source": [
    "t = sp.symbols(\"t\")\n",
    "r = (\n",
    "    4 * sp.cos((sp.pi / 5) * t),\n",
    "    4 * sp.sin((sp.pi / 5) * t) + 2,\n",
    "    5 + (1 / 3) * t\n",
    ")"
   ]
  },
  {
   "cell_type": "code",
   "execution_count": 5,
   "id": "ef0b7bf3-a7f9-4756-b6b8-0c33504f8b1c",
   "metadata": {},
   "outputs": [],
   "source": [
    "dr = tuple(sp.diff(komponent, t) for komponent in r)"
   ]
  },
  {
   "cell_type": "code",
   "execution_count": 6,
   "id": "c8d360b3-b32e-4321-9484-573b3e63cfee",
   "metadata": {},
   "outputs": [
    {
     "name": "stdout",
     "output_type": "stream",
     "text": [
      "v(t) = r'(t) = (-4*pi*sin(pi*t/5)/5, 4*pi*cos(pi*t/5)/5, 0.333333333333333)\n"
     ]
    }
   ],
   "source": [
    "print(\"v(t) = r'(t) =\", dr)"
   ]
  },
  {
   "cell_type": "code",
   "execution_count": 7,
   "id": "36b1ef50-93e0-40e0-b593-e5ca12fd6f10",
   "metadata": {},
   "outputs": [],
   "source": [
    "dr_func = sp.lambdify(t, dr)"
   ]
  },
  {
   "cell_type": "code",
   "execution_count": 8,
   "id": "495633a6-c33c-4a57-a713-f4da29f1a21a",
   "metadata": {},
   "outputs": [
    {
     "name": "stdout",
     "output_type": "stream",
     "text": [
      "Fartsvektoren til bilen etter 10 sekunder er (np.float64(6.155746219909727e-16), np.float64(2.5132741228718345), 0.333333333333333)\n"
     ]
    }
   ],
   "source": [
    "print(\"Fartsvektoren til bilen etter 10 sekunder er\", dr_func(10))"
   ]
  },
  {
   "cell_type": "code",
   "execution_count": 9,
   "id": "9579e611-bbd9-4e0f-bc60-f362a0d9be4b",
   "metadata": {},
   "outputs": [
    {
     "name": "stdout",
     "output_type": "stream",
     "text": [
      "Farten til bilen etter 10 sekunder er 2.53528261300556 m/s\n"
     ]
    }
   ],
   "source": [
    "fart = sp.sqrt(sum(komponent**2 for komponent in dr))\n",
    "fart_func = sp.lambdify(t, fart)\n",
    "print(\"Farten til bilen etter 10 sekunder er\", fart_func(10), \"m/s\")"
   ]
  },
  {
   "cell_type": "markdown",
   "id": "55cb2f5b-3c2c-4595-b7ec-c5302d0749c8",
   "metadata": {},
   "source": [
    "## Oppgave 1c)"
   ]
  },
  {
   "cell_type": "code",
   "execution_count": 10,
   "id": "eda152f2-cc32-49a6-ab7d-d1b0143f9558",
   "metadata": {},
   "outputs": [],
   "source": [
    "r_func = sp.lambdify(t, r)"
   ]
  },
  {
   "cell_type": "code",
   "execution_count": 11,
   "id": "2a3dadcf-0b39-4841-9690-7aceff8a8c9f",
   "metadata": {},
   "outputs": [
    {
     "name": "stdout",
     "output_type": "stream",
     "text": [
      "0: (np.float64(4.0), np.float64(2.0), 5.0)\n",
      "1: (np.float64(3.23606797749979), np.float64(4.3511410091698925), 5.333333333333333)\n",
      "2: (np.float64(1.2360679774997898), np.float64(5.804226065180615), 5.666666666666666)\n",
      "3: (np.float64(-1.2360679774997894), np.float64(5.804226065180615), 5.999999999999999)\n",
      "4: (np.float64(-3.2360679774997894), np.float64(4.351141009169893), 6.333333333333332)\n",
      "5: (np.float64(-4.0), np.float64(2.0000000000000004), 6.666666666666665)\n",
      "6: (np.float64(-3.2360679774997902), np.float64(-0.3511410091698921), 6.999999999999998)\n",
      "7: (np.float64(-1.2360679774997902), np.float64(-1.8042260651806141), 7.33333333333333)\n",
      "8: (np.float64(1.236067977499789), np.float64(-1.8042260651806146), 7.666666666666664)\n",
      "9: (np.float64(3.2360679774997894), np.float64(-0.35114100916989344), 7.9999999999999964)\n",
      "10: (np.float64(4.0), np.float64(1.9999999999999991), 8.33333333333333)\n",
      "11: (np.float64(3.2360679774997902), np.float64(4.351141009169892), 8.666666666666663)\n",
      "12: (np.float64(1.236067977499791), np.float64(5.804226065180615), 8.999999999999996)\n",
      "13: (np.float64(-1.2360679774997885), np.float64(5.804226065180615), 9.333333333333329)\n",
      "14: (np.float64(-3.236067977499789), np.float64(4.351141009169893), 9.66666666666666)\n",
      "15: (np.float64(-4.0), np.float64(2.0000000000000013), 9.999999999999995)\n",
      "16: (np.float64(-3.2360679774997907), np.float64(-0.3511410091698912), 10.333333333333329)\n",
      "17: (np.float64(-1.2360679774997914), np.float64(-1.8042260651806137), 10.66666666666666)\n",
      "18: (np.float64(1.236067977499788), np.float64(-1.804226065180615), 10.999999999999993)\n",
      "19: (np.float64(3.2360679774997885), np.float64(-0.3511410091698939), 11.333333333333327)\n",
      "20: (np.float64(4.0), np.float64(1.999999999999998), 11.66666666666666)\n"
     ]
    }
   ],
   "source": [
    "for i in range(0, 20 + 1):\n",
    "    print(f\"{i}:\", r_func(i))"
   ]
  },
  {
   "cell_type": "markdown",
   "id": "135bff7e-82e7-4cd5-bb1a-605af314cb26",
   "metadata": {},
   "source": [
    "Ser at t = 0 og t = 5 er harmoniske topp og bunnpunkt på xy-planet for hverandre og at t = 0 sine x og y er like t = 10 og t = 20 sine x og y. Betyr at det tar 10 sekunder å kjøre opp 1 etasje i parkeringshuset."
   ]
  },
  {
   "cell_type": "code",
   "execution_count": 12,
   "id": "00903a37-59d7-4dda-ae43-bc1e095ae55d",
   "metadata": {},
   "outputs": [
    {
     "name": "stdout",
     "output_type": "stream",
     "text": [
      "Det er 3.3333333333333304 meter mellom etasjene\n"
     ]
    }
   ],
   "source": [
    "print(\"Det er\", r_func(10)[2] - r_func(0)[2], \"meter mellom etasjene\")"
   ]
  },
  {
   "cell_type": "markdown",
   "id": "14a0b2c1-4724-4a51-8717-81d4e71fee4e",
   "metadata": {},
   "source": [
    "## Oppgave 2a)"
   ]
  },
  {
   "cell_type": "markdown",
   "id": "74116769-59ca-44bf-88d5-b1f499f73594",
   "metadata": {},
   "source": [
    "- 1 januar 2026 til og med januar 2055\n",
    "- Målet er 3 750 000 etter rentene for 2055\n",
    "- Rentesatsen vil være 2.5%\n",
    "\n",
    "Hvor stort beløp må settes inn i banken hvert år for å nå målet?"
   ]
  },
  {
   "cell_type": "code",
   "execution_count": 13,
   "id": "1dfae232-ab8c-4f12-b148-e4df6a8b8d0f",
   "metadata": {},
   "outputs": [],
   "source": [
    "mål = 3_750_000\n",
    "rente_prosent = 2.5\n",
    "rente = 1 + rente_prosent / 100\n",
    "år = (2055 + 1) - 2026 # 2055 + 1 fordi slutten av 2055\n",
    "\n",
    "beløp = (mål * rente) / ((1 + rente) ** år - 1)\n",
    "\n",
    "x = sp.symbols(\"x\")\n",
    "n = sp.symbols(\"n\")\n",
    "beløp = sp.solve(sp.Eq(sp.summation(x * rente ** n, (n, 1, år)), mål), x)[0]"
   ]
  },
  {
   "cell_type": "code",
   "execution_count": 14,
   "id": "fdadf3e5-3679-4104-85c8-4140e8c8aa58",
   "metadata": {},
   "outputs": [
    {
     "name": "stdout",
     "output_type": "stream",
     "text": [
      "Nora må sette inn 83332.83 kr inn i banken hvert år for å nå målet.\n"
     ]
    }
   ],
   "source": [
    "print(f\"Nora må sette inn {beløp:.2f} kr inn i banken hvert år for å nå målet.\")"
   ]
  },
  {
   "cell_type": "markdown",
   "id": "e6cae1e7-bf05-4665-9dfc-1bc5b5d82c74",
   "metadata": {},
   "source": [
    "## Oppgave 2b)"
   ]
  },
  {
   "cell_type": "markdown",
   "id": "339ff36f-4dd5-483b-ab05-482f8cdf08db",
   "metadata": {},
   "source": [
    "- Årlige terminer januar hvert år\n",
    "- Januar 2026 = 3_000_000\n",
    "- 150 000 kr hver termin fra og med Januar 2026 til og med Januar 2058"
   ]
  },
  {
   "cell_type": "code",
   "execution_count": 15,
   "id": "a905b558-e725-4829-9e12-f82d0f11ba1f",
   "metadata": {},
   "outputs": [],
   "source": [
    "start = 3_000_000\n",
    "år = 2058 - 2026 + 1 # inkludere 2026\n",
    "termin_beløp = 150_000\n",
    "\n",
    "r = sp.symbols(\"r\")\n",
    "n = sp.symbols(\"n\")\n",
    "# virker ikke :(\n",
    "# rente = sp.solve(sp.Eq(sp.summation(termin_beløp * (r) ** (n - 1), (n, 1, år)), start), r)\n",
    "# rente = sp.solve(sp.Eq(sp.summation(termin_beløp / ((1 + r) ** n), (n, 1, år)), start), r)"
   ]
  },
  {
   "cell_type": "code",
   "execution_count": 16,
   "id": "f9149ae6-cff9-408a-b48f-ea03f8400770",
   "metadata": {},
   "outputs": [],
   "source": [
    "# rente"
   ]
  },
  {
   "cell_type": "markdown",
   "id": "c26f0fc7-fa3d-4ba3-92c9-d4bb37fdafbf",
   "metadata": {},
   "source": [
    "## Oppgave 3a)"
   ]
  },
  {
   "cell_type": "code",
   "execution_count": 17,
   "id": "a430fb71-9dbc-4d27-8988-14aa015a9007",
   "metadata": {},
   "outputs": [],
   "source": [
    "t = sp.symbols(\"t\")\n",
    "e = sp.N(sp.E)\n",
    "def v(t):\n",
    "    return 8.3 - 17.4 * e ** (-5 * t) + 9.1 * e ** (-0.08 * t)"
   ]
  },
  {
   "cell_type": "code",
   "execution_count": 18,
   "id": "d2944c91-a8fa-4c50-a8a9-142a483e043a",
   "metadata": {},
   "outputs": [],
   "source": [
    "dv = sp.diff(v(t))\n",
    "dv_func = sp.lambdify(t, dv)\n",
    "sekunder = sp.solve(sp.Eq(dv_func(t), 0), t)[0]"
   ]
  },
  {
   "cell_type": "code",
   "execution_count": 19,
   "id": "1ba2bfc8-9c92-4377-8454-9bda433ffffd",
   "metadata": {},
   "outputs": [
    {
     "name": "stdout",
     "output_type": "stream",
     "text": [
      "Det tar 0.972228119804883 sekunder etter at haren begynner å springe før akselerasjonen når 0. Betyr at etter 0.972228119804883 sekunder når haren sin maks fart på hvor raskt den kan løpe.\n"
     ]
    }
   ],
   "source": [
    "print(\"Det tar\", sekunder, \"sekunder etter at haren begynner å springe før akselerasjonen når 0. Betyr at etter\", sekunder, \"sekunder når haren sin maks fart på hvor raskt den kan løpe.\")"
   ]
  },
  {
   "cell_type": "markdown",
   "id": "17f7bf0c-d597-402e-9a54-3c481b56dd07",
   "metadata": {},
   "source": [
    "## Oppgave 3b)"
   ]
  },
  {
   "cell_type": "markdown",
   "id": "413c3890-3cca-49a6-a8d1-695d02c1e9d7",
   "metadata": {},
   "source": [
    "Bruker integraler"
   ]
  },
  {
   "cell_type": "code",
   "execution_count": 44,
   "id": "db76bb9f-d534-4559-879b-51bead61cc75",
   "metadata": {},
   "outputs": [
    {
     "name": "stdout",
     "output_type": "stream",
     "text": [
      "Haren spring omtrent 103 meter i løpet av de første 7 sekundene.\n"
     ]
    }
   ],
   "source": [
    "def hvor_langt_haren_spring(sekunder):\n",
    "    return sp.integrate(sp.sympify(v(t)), (t, 0, sekunder))\n",
    "print(\"Haren spring omtrent\", round(hvor_langt_haren_spring(7)), \"meter i løpet av de første 7 sekundene.\")"
   ]
  },
  {
   "cell_type": "markdown",
   "id": "9490ceb0-e713-4cb2-b9d9-d021884f76fb",
   "metadata": {},
   "source": [
    "## Oppgave 3c)"
   ]
  },
  {
   "cell_type": "code",
   "execution_count": 58,
   "id": "3b5e93f3-429d-4102-aa23-2916182de688",
   "metadata": {},
   "outputs": [],
   "source": [
    "x = sp.symbols(\"x\")\n",
    "def vg(x):\n",
    "    return (1/x) * sp.integrate(sp.sympify(v(t)), t)"
   ]
  },
  {
   "cell_type": "code",
   "execution_count": 62,
   "id": "0c72e007-04af-466a-96f0-c52ecf3d3078",
   "metadata": {},
   "outputs": [],
   "source": [
    "tx = sp.nsolve(sp.Eq(hvor_langt_haren_spring(t), 200), t, 0) # 0 er her en startverdi som er delvis nærme svaret"
   ]
  },
  {
   "cell_type": "code",
   "execution_count": 63,
   "id": "03a3e785-61d3-4faa-a2f3-8f1e36417800",
   "metadata": {},
   "outputs": [
    {
     "data": {
      "text/latex": [
       "$\\displaystyle 13.3744326730806$"
      ],
      "text/plain": [
       "13.3744326730806"
      ]
     },
     "execution_count": 63,
     "metadata": {},
     "output_type": "execute_result"
    }
   ],
   "source": [
    "1/tx * sp.integrate(sp.sympify(v(t)), (t, 0, tx))"
   ]
  }
 ],
 "metadata": {
  "kernelspec": {
   "display_name": "Python 3 (ipykernel)",
   "language": "python",
   "name": "python3"
  },
  "language_info": {
   "codemirror_mode": {
    "name": "ipython",
    "version": 3
   },
   "file_extension": ".py",
   "mimetype": "text/x-python",
   "name": "python",
   "nbconvert_exporter": "python",
   "pygments_lexer": "ipython3",
   "version": "3.12.10"
  }
 },
 "nbformat": 4,
 "nbformat_minor": 5
}
